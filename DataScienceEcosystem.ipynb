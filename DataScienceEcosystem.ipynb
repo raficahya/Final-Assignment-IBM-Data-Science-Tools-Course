{
 "cells": [
  {
   "cell_type": "markdown",
   "id": "7f5ce16d-5d50-4493-94ba-2e4987d5f3bc",
   "metadata": {
    "tags": []
   },
   "source": [
    "# Data Science Tools and Ecosystem"
   ]
  },
  {
   "cell_type": "markdown",
   "id": "e614e26c-29ed-4126-be2c-51e8e627f502",
   "metadata": {},
   "source": [
    "In this notebook, Data Science Tools and Ecosystem are summarized.\n"
   ]
  },
  {
   "cell_type": "markdown",
   "id": "5bafca0c-ca35-4a4c-8df0-dcdf1f605284",
   "metadata": {},
   "source": [
    "***Objectives:\n",
    "* List of popular languages for Data Science\n",
    "* List of common Data Science libraries\n",
    "* List of open source IDE (Integrated Development Environment) for Data Science"
   ]
  },
  {
   "cell_type": "markdown",
   "id": "5edc9dfa-d296-45b3-bc59-94417752fcbd",
   "metadata": {},
   "source": [
    "Some of the popular languages that Data Scientists use are:\n",
    "1. Python\n",
    "1. R\n",
    "1. Julia"
   ]
  },
  {
   "cell_type": "markdown",
   "id": "d91d0d4d-3e26-4b84-a8be-aa2f90abe359",
   "metadata": {},
   "source": [
    "Some of the commonly used libraries used by Data Scientists include:\n",
    "1. pandas (Python)\n",
    "1. scikit-learn (Python)\n",
    "1. tidyverse (R)"
   ]
  },
  {
   "cell_type": "markdown",
   "id": "2f4570f8-e518-4489-b574-c23a1f647306",
   "metadata": {
    "tags": []
   },
   "source": [
    "| Data Science Tools |\n",
    "|:--------:|\n",
    "| Jupyter Notebook |\n",
    "| Visual Studio Code11-authordetails |\n",
    "| RStudio |"
   ]
  },
  {
   "cell_type": "markdown",
   "id": "43e2063f-9529-4dfb-9dd6-174056560e38",
   "metadata": {},
   "source": [
    "### Below are a few examples of evaluating arithmetic expressions in Python."
   ]
  },
  {
   "cell_type": "code",
   "execution_count": 2,
   "id": "6b760c7d-a3df-4547-9b6c-22c83a80a26c",
   "metadata": {
    "tags": []
   },
   "outputs": [
    {
     "data": {
      "text/plain": [
       "17"
      ]
     },
     "execution_count": 2,
     "metadata": {},
     "output_type": "execute_result"
    }
   ],
   "source": [
    "(3*4)+5 #This a simple arithmetic expression to mutiply then add integers"
   ]
  },
  {
   "cell_type": "code",
   "execution_count": 3,
   "id": "9e68a8c0-178b-405f-832c-3d57a2be8af0",
   "metadata": {
    "tags": []
   },
   "outputs": [
    {
     "data": {
      "text/plain": [
       "3.3333333333333335"
      ]
     },
     "execution_count": 3,
     "metadata": {},
     "output_type": "execute_result"
    }
   ],
   "source": [
    "200/60 #This will convert 200 minutes to hours by diving by 60"
   ]
  },
  {
   "cell_type": "markdown",
   "id": "70de8194-3e2f-4294-83fa-004d3b732a94",
   "metadata": {},
   "source": [
    "## Author\n",
    "Muhammad Rafi Cahya Ramadhana"
   ]
  }
 ],
 "metadata": {
  "kernelspec": {
   "display_name": "Python",
   "language": "python",
   "name": "conda-env-python-py"
  },
  "language_info": {
   "codemirror_mode": {
    "name": "ipython",
    "version": 3
   },
   "file_extension": ".py",
   "mimetype": "text/x-python",
   "name": "python",
   "nbconvert_exporter": "python",
   "pygments_lexer": "ipython3",
   "version": "3.7.12"
  }
 },
 "nbformat": 4,
 "nbformat_minor": 5
}
